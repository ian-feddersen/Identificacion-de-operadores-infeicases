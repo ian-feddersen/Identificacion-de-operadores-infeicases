{
 "cells": [
  {
   "cell_type": "markdown",
   "id": "a1e9ebff-5aee-42ad-9e93-571c114c68e5",
   "metadata": {},
   "source": [
    "# Telecomunicaciones - Identificar Operadores Ineficaces\n"
   ]
  },
  {
   "cell_type": "markdown",
   "id": "92d07d61-8dd5-4967-849b-a989064b3182",
   "metadata": {},
   "source": [
    "## **Descripción General**\n",
    "\n",
    "El servicio de telefonía virtual CallMeMaybe busca identificar operadores ineficaces para mejorar la eficiencia operativa. \n",
    "\n",
    "Un operador se considera ineficaz si:\n",
    "1. Tiene una alta cantidad de llamadas perdidas (internas o externas).\n",
    "2. Presenta tiempos de espera prolongados en las llamadas entrantes.\n",
    "3. Realiza un número reducido de llamadas salientes, si forman parte de sus responsabilidades.\n",
    "\n",
    "**Objetivos:**\n",
    "- Realizar un análisis exploratorio de los datos (EDA).\n",
    "- Identificar operadores ineficaces basándose en métricas clave.\n",
    "- Probar hipótesis estadísticas para validar hallazgos.\n"
   ]
  },
  {
   "cell_type": "markdown",
   "id": "5d76b9fe-94fc-4881-84ee-a7adfa16cd32",
   "metadata": {},
   "source": [
    "## **Estructura del Proyecto**\n",
    "\n",
    "El proyecto se divide en las siguientes etapas principales:\n",
    "1. **Preprocesamiento de datos:** Limpieza, transformación y preparación de los datos.\n",
    "2. **Análisis exploratorio de datos (EDA):** Investigación de patrones y métricas clave.\n",
    "3. **Análisis de factores relacionados con la ineficacia:** Identificación de operadores con alto impacto.\n",
    "4. **Pruebas estadísticas:** Evaluación de hipótesis para respaldar las conclusiones.\n",
    "5. **Conclusiones y recomendaciones:** Resumen de hallazgos y sugerencias.\n"
   ]
  },
  {
   "cell_type": "markdown",
   "id": "b55b0979-570d-412a-aa96-1057d438d6b6",
   "metadata": {},
   "source": [
    "## **Preprocesamiento de Datos**\n",
    "\n",
    "El preprocesamiento asegura que los datos estén limpios y preparados para el análisis posterior. Los pasos incluyen:\n",
    "\n",
    "1. **Carga de datos:** Leer los datasets y verificar su estructura.\n",
    "2. **Verificación de valores nulos:** Identificar y tratar datos faltantes.\n",
    "3. **Eliminación de duplicados:** Garantizar que los datos sean únicos.\n",
    "4. **Conversión de formatos:** Asegurar que las columnas de fecha tengan el tipo correcto.\n",
    "5. **Creación de columnas adicionales:** Generar métricas como el tiempo de espera promedio.\n"
   ]
  },
  {
   "cell_type": "markdown",
   "id": "700f0910-1b5d-42a3-ba7a-ffb61e7f1921",
   "metadata": {},
   "source": [
    "## **Análisis Exploratorio de Datos (EDA)**\n",
    "\n",
    "Esta etapa busca explorar las métricas clave relacionadas con la ineficacia operativa, incluyendo:\n",
    "\n",
    "1. **Distribución de llamadas perdidas:** Identificar operadores con alta proporción de llamadas perdidas.\n",
    "2. **Tiempos de espera prolongados:** Analizar el tiempo de espera promedio para llamadas entrantes.\n",
    "3. **Eficiencia en llamadas salientes:** Evaluar operadores responsables de llamadas salientes con bajo rendimiento.\n",
    "\n",
    "Incluiremos análisis gráficos y tablas resumen.sumen."
   ]
  },
  {
   "cell_type": "markdown",
   "id": "d86d73d4-9421-4902-8f87-a1d30bdfd372",
   "metadata": {},
   "source": [
    "**1. Preprocesamiento de Datos**"
   ]
  },
  {
   "cell_type": "code",
   "execution_count": 1,
   "id": "dc7193a7-2bd8-4d4b-a027-bf9548bb6541",
   "metadata": {},
   "outputs": [],
   "source": [
    "import pandas as pd\n",
    "import matplotlib.pyplot as plt\n",
    "import seaborn as sns\n",
    "from scipy.stats import ttest_ind"
   ]
  },
  {
   "cell_type": "code",
   "execution_count": 2,
   "id": "ddea91bd-8168-4208-b705-c6aa8b8ba9b5",
   "metadata": {},
   "outputs": [
    {
     "data": {
      "text/html": [
       "<div>\n",
       "<style scoped>\n",
       "    .dataframe tbody tr th:only-of-type {\n",
       "        vertical-align: middle;\n",
       "    }\n",
       "\n",
       "    .dataframe tbody tr th {\n",
       "        vertical-align: top;\n",
       "    }\n",
       "\n",
       "    .dataframe thead th {\n",
       "        text-align: right;\n",
       "    }\n",
       "</style>\n",
       "<table border=\"1\" class=\"dataframe\">\n",
       "  <thead>\n",
       "    <tr style=\"text-align: right;\">\n",
       "      <th></th>\n",
       "      <th>user_id</th>\n",
       "      <th>date</th>\n",
       "      <th>direction</th>\n",
       "      <th>internal</th>\n",
       "      <th>operator_id</th>\n",
       "      <th>is_missed_call</th>\n",
       "      <th>calls_count</th>\n",
       "      <th>call_duration</th>\n",
       "      <th>total_call_duration</th>\n",
       "    </tr>\n",
       "  </thead>\n",
       "  <tbody>\n",
       "    <tr>\n",
       "      <th>0</th>\n",
       "      <td>166377</td>\n",
       "      <td>2019-08-04 00:00:00+03:00</td>\n",
       "      <td>in</td>\n",
       "      <td>False</td>\n",
       "      <td>NaN</td>\n",
       "      <td>True</td>\n",
       "      <td>2</td>\n",
       "      <td>0</td>\n",
       "      <td>4</td>\n",
       "    </tr>\n",
       "    <tr>\n",
       "      <th>1</th>\n",
       "      <td>166377</td>\n",
       "      <td>2019-08-05 00:00:00+03:00</td>\n",
       "      <td>out</td>\n",
       "      <td>True</td>\n",
       "      <td>880022.0</td>\n",
       "      <td>True</td>\n",
       "      <td>3</td>\n",
       "      <td>0</td>\n",
       "      <td>5</td>\n",
       "    </tr>\n",
       "    <tr>\n",
       "      <th>2</th>\n",
       "      <td>166377</td>\n",
       "      <td>2019-08-05 00:00:00+03:00</td>\n",
       "      <td>out</td>\n",
       "      <td>True</td>\n",
       "      <td>880020.0</td>\n",
       "      <td>True</td>\n",
       "      <td>1</td>\n",
       "      <td>0</td>\n",
       "      <td>1</td>\n",
       "    </tr>\n",
       "    <tr>\n",
       "      <th>3</th>\n",
       "      <td>166377</td>\n",
       "      <td>2019-08-05 00:00:00+03:00</td>\n",
       "      <td>out</td>\n",
       "      <td>True</td>\n",
       "      <td>880020.0</td>\n",
       "      <td>False</td>\n",
       "      <td>1</td>\n",
       "      <td>10</td>\n",
       "      <td>18</td>\n",
       "    </tr>\n",
       "    <tr>\n",
       "      <th>4</th>\n",
       "      <td>166377</td>\n",
       "      <td>2019-08-05 00:00:00+03:00</td>\n",
       "      <td>out</td>\n",
       "      <td>False</td>\n",
       "      <td>880022.0</td>\n",
       "      <td>True</td>\n",
       "      <td>3</td>\n",
       "      <td>0</td>\n",
       "      <td>25</td>\n",
       "    </tr>\n",
       "  </tbody>\n",
       "</table>\n",
       "</div>"
      ],
      "text/plain": [
       "   user_id                       date direction internal  operator_id  \\\n",
       "0   166377  2019-08-04 00:00:00+03:00        in    False          NaN   \n",
       "1   166377  2019-08-05 00:00:00+03:00       out     True     880022.0   \n",
       "2   166377  2019-08-05 00:00:00+03:00       out     True     880020.0   \n",
       "3   166377  2019-08-05 00:00:00+03:00       out     True     880020.0   \n",
       "4   166377  2019-08-05 00:00:00+03:00       out    False     880022.0   \n",
       "\n",
       "   is_missed_call  calls_count  call_duration  total_call_duration  \n",
       "0            True            2              0                    4  \n",
       "1            True            3              0                    5  \n",
       "2            True            1              0                    1  \n",
       "3           False            1             10                   18  \n",
       "4            True            3              0                   25  "
      ]
     },
     "metadata": {},
     "output_type": "display_data"
    },
    {
     "data": {
      "text/html": [
       "<div>\n",
       "<style scoped>\n",
       "    .dataframe tbody tr th:only-of-type {\n",
       "        vertical-align: middle;\n",
       "    }\n",
       "\n",
       "    .dataframe tbody tr th {\n",
       "        vertical-align: top;\n",
       "    }\n",
       "\n",
       "    .dataframe thead th {\n",
       "        text-align: right;\n",
       "    }\n",
       "</style>\n",
       "<table border=\"1\" class=\"dataframe\">\n",
       "  <thead>\n",
       "    <tr style=\"text-align: right;\">\n",
       "      <th></th>\n",
       "      <th>user_id</th>\n",
       "      <th>tariff_plan</th>\n",
       "      <th>date_start</th>\n",
       "    </tr>\n",
       "  </thead>\n",
       "  <tbody>\n",
       "    <tr>\n",
       "      <th>0</th>\n",
       "      <td>166713</td>\n",
       "      <td>A</td>\n",
       "      <td>2019-08-15</td>\n",
       "    </tr>\n",
       "    <tr>\n",
       "      <th>1</th>\n",
       "      <td>166901</td>\n",
       "      <td>A</td>\n",
       "      <td>2019-08-23</td>\n",
       "    </tr>\n",
       "    <tr>\n",
       "      <th>2</th>\n",
       "      <td>168527</td>\n",
       "      <td>A</td>\n",
       "      <td>2019-10-29</td>\n",
       "    </tr>\n",
       "    <tr>\n",
       "      <th>3</th>\n",
       "      <td>167097</td>\n",
       "      <td>A</td>\n",
       "      <td>2019-09-01</td>\n",
       "    </tr>\n",
       "    <tr>\n",
       "      <th>4</th>\n",
       "      <td>168193</td>\n",
       "      <td>A</td>\n",
       "      <td>2019-10-16</td>\n",
       "    </tr>\n",
       "  </tbody>\n",
       "</table>\n",
       "</div>"
      ],
      "text/plain": [
       "   user_id tariff_plan  date_start\n",
       "0   166713           A  2019-08-15\n",
       "1   166901           A  2019-08-23\n",
       "2   168527           A  2019-10-29\n",
       "3   167097           A  2019-09-01\n",
       "4   168193           A  2019-10-16"
      ]
     },
     "metadata": {},
     "output_type": "display_data"
    }
   ],
   "source": [
    "telecom_dataset = pd.read_csv(\"telecom_dataset_us.csv\")\n",
    "telecom_clients = pd.read_csv(\"telecom_clients_us.csv\")\n",
    "\n",
    "display(telecom_dataset.head())\n",
    "display(telecom_clients.head())\n"
   ]
  },
  {
   "cell_type": "code",
   "execution_count": 3,
   "id": "0c9fc291-e6fb-4478-8327-e1a10734ec0e",
   "metadata": {},
   "outputs": [
    {
     "name": "stdout",
     "output_type": "stream",
     "text": [
      "<class 'pandas.core.frame.DataFrame'>\n",
      "RangeIndex: 53902 entries, 0 to 53901\n",
      "Data columns (total 9 columns):\n",
      " #   Column               Non-Null Count  Dtype  \n",
      "---  ------               --------------  -----  \n",
      " 0   user_id              53902 non-null  int64  \n",
      " 1   date                 53902 non-null  object \n",
      " 2   direction            53902 non-null  object \n",
      " 3   internal             53785 non-null  object \n",
      " 4   operator_id          45730 non-null  float64\n",
      " 5   is_missed_call       53902 non-null  bool   \n",
      " 6   calls_count          53902 non-null  int64  \n",
      " 7   call_duration        53902 non-null  int64  \n",
      " 8   total_call_duration  53902 non-null  int64  \n",
      "dtypes: bool(1), float64(1), int64(4), object(3)\n",
      "memory usage: 3.3+ MB\n",
      "None\n",
      "<class 'pandas.core.frame.DataFrame'>\n",
      "RangeIndex: 732 entries, 0 to 731\n",
      "Data columns (total 3 columns):\n",
      " #   Column       Non-Null Count  Dtype \n",
      "---  ------       --------------  ----- \n",
      " 0   user_id      732 non-null    int64 \n",
      " 1   tariff_plan  732 non-null    object\n",
      " 2   date_start   732 non-null    object\n",
      "dtypes: int64(1), object(2)\n",
      "memory usage: 17.3+ KB\n",
      "None\n"
     ]
    }
   ],
   "source": [
    "print(telecom_dataset.info())\n",
    "print(telecom_clients.info())"
   ]
  },
  {
   "cell_type": "markdown",
   "id": "bc9cbd07-b007-49a9-bb61-1a661764548f",
   "metadata": {},
   "source": [
    "Los datasets se cargaron correctamente, tanto telecom_dataset como telecom_clients. El número de entradas en cada uno parece adecuado, con 53,902 registros en el dataset de telecomunicaciones y 732 en el de clientes."
   ]
  },
  {
   "cell_type": "markdown",
   "id": "30691105-3643-4d0d-a141-b6a5e62fa17e",
   "metadata": {},
   "source": [
    "**Descripción estadística básica**"
   ]
  },
  {
   "cell_type": "code",
   "execution_count": 4,
   "id": "31c78cc0-343e-44e9-9a1d-f45f7609fcef",
   "metadata": {},
   "outputs": [
    {
     "name": "stdout",
     "output_type": "stream",
     "text": [
      "\n",
      "Descripción estadística de telecom_dataset:\n",
      "              user_id                       date direction internal  \\\n",
      "count    53902.000000                      53902     53902    53785   \n",
      "unique            NaN                        119         2        2   \n",
      "top               NaN  2019-11-25 00:00:00+03:00       out    False   \n",
      "freq              NaN                       1220     31917    47621   \n",
      "mean    167295.344477                        NaN       NaN      NaN   \n",
      "std        598.883775                        NaN       NaN      NaN   \n",
      "min     166377.000000                        NaN       NaN      NaN   \n",
      "25%     166782.000000                        NaN       NaN      NaN   \n",
      "50%     167162.000000                        NaN       NaN      NaN   \n",
      "75%     167819.000000                        NaN       NaN      NaN   \n",
      "max     168606.000000                        NaN       NaN      NaN   \n",
      "\n",
      "          operator_id is_missed_call   calls_count  call_duration  \\\n",
      "count    45730.000000          53902  53902.000000   53902.000000   \n",
      "unique            NaN              2           NaN            NaN   \n",
      "top               NaN          False           NaN            NaN   \n",
      "freq              NaN          30334           NaN            NaN   \n",
      "mean    916535.993002            NaN     16.451245     866.684427   \n",
      "std      21254.123136            NaN     62.917170    3731.791202   \n",
      "min     879896.000000            NaN      1.000000       0.000000   \n",
      "25%     900788.000000            NaN      1.000000       0.000000   \n",
      "50%     913938.000000            NaN      4.000000      38.000000   \n",
      "75%     937708.000000            NaN     12.000000     572.000000   \n",
      "max     973286.000000            NaN   4817.000000  144395.000000   \n",
      "\n",
      "        total_call_duration  \n",
      "count          53902.000000  \n",
      "unique                  NaN  \n",
      "top                     NaN  \n",
      "freq                    NaN  \n",
      "mean            1157.133297  \n",
      "std             4403.468763  \n",
      "min                0.000000  \n",
      "25%               47.000000  \n",
      "50%              210.000000  \n",
      "75%              902.000000  \n",
      "max           166155.000000  \n",
      "\n",
      "Descripción estadística de telecom_clients:\n",
      "              user_id tariff_plan  date_start\n",
      "count      732.000000         732         732\n",
      "unique            NaN           3          73\n",
      "top               NaN           C  2019-09-24\n",
      "freq              NaN         395          24\n",
      "mean    167431.927596         NaN         NaN\n",
      "std        633.810383         NaN         NaN\n",
      "min     166373.000000         NaN         NaN\n",
      "25%     166900.750000         NaN         NaN\n",
      "50%     167432.000000         NaN         NaN\n",
      "75%     167973.000000         NaN         NaN\n",
      "max     168606.000000         NaN         NaN\n"
     ]
    }
   ],
   "source": [
    "print(\"\\nDescripción estadística de telecom_dataset:\")\n",
    "print(telecom_dataset.describe(include='all'))\n",
    "\n",
    "print(\"\\nDescripción estadística de telecom_clients:\")\n",
    "print(telecom_clients.describe(include='all'))"
   ]
  },
  {
   "cell_type": "markdown",
   "id": "69f2b137-7630-4196-9acd-2d746dd57d3f",
   "metadata": {},
   "source": [
    "**Comprobar si hay valores únicos y consistencia en las columnas clave**"
   ]
  },
  {
   "cell_type": "code",
   "execution_count": 5,
   "id": "7c18f271-bf2f-4fae-bad3-32475a922f8d",
   "metadata": {},
   "outputs": [
    {
     "name": "stdout",
     "output_type": "stream",
     "text": [
      "\n",
      "Valores únicos en telecom_dataset (dirección, interno, llamada perdida):\n",
      "direction         2\n",
      "internal          2\n",
      "is_missed_call    2\n",
      "dtype: int64\n",
      "\n",
      "Valores únicos en telecom_clients (tarifa y usuario):\n",
      "tariff_plan      3\n",
      "user_id        732\n",
      "dtype: int64\n"
     ]
    }
   ],
   "source": [
    "print(\"\\nValores únicos en telecom_dataset (dirección, interno, llamada perdida):\")\n",
    "print(telecom_dataset[['direction', 'internal', 'is_missed_call']].nunique())\n",
    "\n",
    "print(\"\\nValores únicos en telecom_clients (tarifa y usuario):\")\n",
    "print(telecom_clients[['tariff_plan', 'user_id']].nunique())"
   ]
  },
  {
   "cell_type": "markdown",
   "id": "6bdb2d7c-8e3a-4892-b20d-fba0ceb163c5",
   "metadata": {},
   "source": [
    "telecom_dataset:\n",
    "\n",
    "Las columnas direction, internal, y is_missed_call tienen valores únicos que son coherentes con las categorías esperadas. Es decir, direction tiene dos valores (\"in\", \"out\"), internal tiene dos valores (\"True\", \"False\") y is_missed_call también tiene dos valores (\"True\", \"False\").\n",
    "\n",
    "telecom_clients:\n",
    "\n",
    "La columna tariff_plan tiene tres valores únicos, lo que corresponde a las categorías de tarifas del servicio.\n",
    "El user_id es único, lo que permite relacionar los registros de ambos conjuntos de datos."
   ]
  },
  {
   "cell_type": "markdown",
   "id": "119e1af8-0f21-47b4-ad73-5c55eae26e66",
   "metadata": {},
   "source": [
    " **Manejo de valores nulos**"
   ]
  },
  {
   "cell_type": "code",
   "execution_count": 6,
   "id": "2436c4fe-47a5-4f76-9a02-8174477f1d30",
   "metadata": {},
   "outputs": [
    {
     "name": "stdout",
     "output_type": "stream",
     "text": [
      "\n",
      "Valores nulos en telecom_dataset:\n",
      "user_id                   0\n",
      "date                      0\n",
      "direction                 0\n",
      "internal                117\n",
      "operator_id            8172\n",
      "is_missed_call            0\n",
      "calls_count               0\n",
      "call_duration             0\n",
      "total_call_duration       0\n",
      "dtype: int64\n",
      "\n",
      "Valores nulos en telecom_clients:\n",
      "user_id        0\n",
      "tariff_plan    0\n",
      "date_start     0\n",
      "dtype: int64\n"
     ]
    }
   ],
   "source": [
    "print(\"\\nValores nulos en telecom_dataset:\")\n",
    "print(telecom_dataset.isnull().sum())\n",
    "\n",
    "print(\"\\nValores nulos en telecom_clients:\")\n",
    "print(telecom_clients.isnull().sum())"
   ]
  },
  {
   "cell_type": "markdown",
   "id": "9e349ca0-90a7-4e62-bb20-2b4821443b46",
   "metadata": {},
   "source": [
    "**Recomendación General:**\n",
    "Para la columna internal, lo mejor sera imputar los nulos con False, ya que el número de valores faltantes es bajo."
   ]
  },
  {
   "cell_type": "code",
   "execution_count": 7,
   "id": "bf260d16-7c6c-4322-a801-efb8db5bffe8",
   "metadata": {},
   "outputs": [],
   "source": [
    "telecom_dataset['internal'].fillna(False, inplace=True)\n"
   ]
  },
  {
   "cell_type": "markdown",
   "id": "4739dc69-034e-4d67-a280-5e50f8c79627",
   "metadata": {},
   "source": [
    "**Recomendación General:**\n",
    "\n",
    "Imputar los valores nulos de la columna operator_id con un valor simbólico como -1 es una solución adecuada si consideramos que estos valores faltantes representan casos especiales (por ejemplo, llamadas sin operador asociado). Esto ayuda a conservar todas las filas para el análisis."
   ]
  },
  {
   "cell_type": "code",
   "execution_count": 8,
   "id": "116a4170-44e0-42c6-b26b-1a6ee2238a32",
   "metadata": {},
   "outputs": [],
   "source": [
    "telecom_dataset['operator_id'].fillna(-1, inplace=True)"
   ]
  },
  {
   "cell_type": "code",
   "execution_count": 9,
   "id": "9c80cef2-86bd-4aa3-9b1b-af0943353a4f",
   "metadata": {},
   "outputs": [
    {
     "name": "stdout",
     "output_type": "stream",
     "text": [
      "\n",
      "Valores nulos en telecom_dataset después de la imputación:\n",
      "user_id                0\n",
      "date                   0\n",
      "direction              0\n",
      "internal               0\n",
      "operator_id            0\n",
      "is_missed_call         0\n",
      "calls_count            0\n",
      "call_duration          0\n",
      "total_call_duration    0\n",
      "dtype: int64\n"
     ]
    }
   ],
   "source": [
    "print(\"\\nValores nulos en telecom_dataset después de la imputación:\")\n",
    "print(telecom_dataset.isnull().sum())"
   ]
  },
  {
   "cell_type": "markdown",
   "id": "fc6cd0f8-2fbf-4188-83c0-24a64c138092",
   "metadata": {},
   "source": [
    "**Verificar y eliminar duplicados**"
   ]
  },
  {
   "cell_type": "code",
   "execution_count": 10,
   "id": "7619c5c2-c6a3-4ebd-a3a2-116f0efe36cf",
   "metadata": {},
   "outputs": [
    {
     "name": "stdout",
     "output_type": "stream",
     "text": [
      "\n",
      "Duplicados en telecom_dataset antes de eliminarlos:\n",
      "4900\n",
      "\n",
      "Duplicados en telecom_clients antes de eliminarlos:\n",
      "0\n"
     ]
    }
   ],
   "source": [
    "print(\"\\nDuplicados en telecom_dataset antes de eliminarlos:\")\n",
    "print(telecom_dataset.duplicated().sum())\n",
    "\n",
    "print(\"\\nDuplicados en telecom_clients antes de eliminarlos:\")\n",
    "print(telecom_clients.duplicated().sum())\n"
   ]
  },
  {
   "cell_type": "markdown",
   "id": "0b439d14-f77f-49a9-aea7-dd1ea9acffa4",
   "metadata": {},
   "source": [
    "**Eliminar duplicados en telecom_dataset:** Es recomendable en este caso, ya que la cantidad de duplicados es bastante alta (4900). Estos pueden afectar la precisión del análisis y distorsionar los resultados, ya que se contarán las llamadas y otros valores más de una vez."
   ]
  },
  {
   "cell_type": "code",
   "execution_count": 11,
   "id": "58454cc5-a82c-428b-bdd2-6cb8f583ca04",
   "metadata": {},
   "outputs": [
    {
     "name": "stdout",
     "output_type": "stream",
     "text": [
      "\n",
      "Duplicados en telecom_dataset después de eliminarlos:\n",
      "0\n"
     ]
    }
   ],
   "source": [
    "telecom_dataset = telecom_dataset.drop_duplicates()\n",
    "\n",
    "print(\"\\nDuplicados en telecom_dataset después de eliminarlos:\")\n",
    "print(telecom_dataset.duplicated().sum())\n"
   ]
  },
  {
   "cell_type": "markdown",
   "id": "b83c7d59-98e0-4a60-8e94-2e3247c5eba7",
   "metadata": {},
   "source": [
    "**Conversión de fechas:** Conversión de columnas de fecha para facilitar análisis temporales."
   ]
  },
  {
   "cell_type": "code",
   "execution_count": 12,
   "id": "f512fbbe-2950-41bb-b7e4-c62c70bb4b2e",
   "metadata": {},
   "outputs": [],
   "source": [
    "telecom_dataset['date'] = pd.to_datetime(telecom_dataset['date'])\n",
    "telecom_clients['date_start'] = pd.to_datetime(telecom_clients['date_start'])\n"
   ]
  },
  {
   "cell_type": "markdown",
   "id": "85635c3a-42ef-4992-b8fc-2076b24be087",
   "metadata": {},
   "source": [
    "**Crear métricas adicionales:** Generación de una columna adicional wait_time para calcular el tiempo de espera promedio."
   ]
  },
  {
   "cell_type": "code",
   "execution_count": 13,
   "id": "383fe0c4-5fa9-4d39-964f-2600869f441d",
   "metadata": {},
   "outputs": [],
   "source": [
    "telecom_dataset['wait_time'] = telecom_dataset['total_call_duration'] - telecom_dataset['call_duration']\n"
   ]
  },
  {
   "cell_type": "markdown",
   "id": "0380b491-cece-4fbf-8be5-c803b73ba0b8",
   "metadata": {},
   "source": [
    "**2. Análisis Exploratorio de Datos (EDA)**"
   ]
  },
  {
   "cell_type": "markdown",
   "id": "2bbf1019-25af-489a-bb10-913a13c834c0",
   "metadata": {},
   "source": [
    "**Distribución de llamadas perdidas por operador**"
   ]
  },
  {
   "cell_type": "code",
   "execution_count": 14,
   "id": "6e108459-5479-4038-8f0d-8fea345b8d48",
   "metadata": {},
   "outputs": [],
   "source": [
    "missed_calls = telecom_dataset[telecom_dataset['is_missed_call'] == 1]\n",
    "missed_calls_summary = missed_calls.groupby('operator_id')['calls_count'].sum().sort_values(ascending=False)\n",
    "missed_calls_summary = missed_calls_summary.reset_index()\n"
   ]
  },
  {
   "cell_type": "markdown",
   "id": "5ae05f7b-e567-4a74-8fb9-39730f823f29",
   "metadata": {},
   "source": [
    "**Visualizar operadores con más llamadas perdidas**"
   ]
  },
  {
   "cell_type": "code",
   "execution_count": 15,
   "id": "2214e16b-85fa-4a44-a94b-63849e74aec6",
   "metadata": {
    "scrolled": true
   },
   "outputs": [
    {
     "name": "stderr",
     "output_type": "stream",
     "text": [
      "C:\\Users\\lankf\\AppData\\Local\\Temp\\ipykernel_10824\\3653542120.py:2: FutureWarning: \n",
      "\n",
      "Passing `palette` without assigning `hue` is deprecated and will be removed in v0.14.0. Assign the `x` variable to `hue` and set `legend=False` for the same effect.\n",
      "\n",
      "  sns.barplot(data=missed_calls_summary.head(10), x='operator_id', y='calls_count', palette='Reds')\n"
     ]
    },
    {
     "data": {
      "image/png": "[encoded data removed]",
      "text/plain": [
       "<Figure size 1200x600 with 1 Axes>"
      ]
     },
     "metadata": {},
     "output_type": "display_data"
    }
   ],
   "source": [
    "plt.figure(figsize=(12, 6))\n",
    "sns.barplot(data=missed_calls_summary.head(10), x='operator_id', y='calls_count', palette='Reds')\n",
    "plt.title(\"Top 10 Operadores con más llamadas perdidas\")\n",
    "plt.xlabel(\"ID de Operador\")\n",
    "plt.ylabel(\"Número de llamadas perdidas\")\n",
    "plt.show()"
   ]
  },
  {
   "cell_type": "markdown",
   "id": "c999c31f-1ff7-4f62-8f11-c634ee9c4ca5",
   "metadata": {},
   "source": [
    "**Concluciones:**\n",
    "\n",
    "**Categoría \"-1.0\" (valores imputados):**\n",
    "\n",
    "La categoría con valor simbólico \"-1.0\" presenta, de lejos, la mayor cantidad de llamadas perdidas. Esto es lógico, ya que representa los registros donde el operador no estaba identificado.\n",
    "\n",
    "Su volumen desproporcionado indica que la falta de datos sobre el operador es significativa y merece atención adicional para determinar cómo tratar esta categoría en el análisis.\n",
    "\n",
    "**Otros operadores destacados:**\n",
    "\n",
    "Los operadores con ID 885876.0 y 885890.0 tienen una cantidad considerable de llamadas perdidas, pero en comparación con la categoría \"-1.0\", sus cifras son mucho menores.\n",
    "\n",
    "El resto de los operadores tienen valores notablemente más bajos, mostrando una distribución mucho más uniforme entre ellos.\n",
    "\n",
    "**Posibles implicaciones:**\n",
    "\n",
    "Es probable que la mayoría de las llamadas sin operador identificado estén asociadas a un tipo de error o una condición específica del sistema. Analizar el contexto de estas entradas podría ser útil para entender su origen.\n",
    "\n",
    "En cuanto a los operadores identificados, los valores altos en ciertos IDs pueden indicar problemas específicos de red o servicio relacionados con esas entidades."
   ]
  },
  {
   "cell_type": "markdown",
   "id": "670806a6-de27-4e06-a3b5-f5abc26b95fb",
   "metadata": {},
   "source": [
    "**Comparar con el volumen total:**\n",
    "\n",
    "Calcular el volumen total de llamadas por operador, las llamadas perdidas y el porcentaje que representan estas llamadas perdidas sobre el total:"
   ]
  },
  {
   "cell_type": "code",
   "execution_count": 25,
   "id": "b593eae5-7ca6-4157-9615-c17d5d850c21",
   "metadata": {},
   "outputs": [
    {
     "name": "stdout",
     "output_type": "stream",
     "text": [
      "      operator_id  total_calls  missed_calls  missed_calls_percentage\n",
      "875      946454.0           13          13.0                    100.0\n",
      "254      905480.0            1           1.0                    100.0\n",
      "93       891976.0            2           2.0                    100.0\n",
      "618      932246.0            1           1.0                    100.0\n",
      "716      937872.0            1           1.0                    100.0\n",
      "1031     960674.0            2           2.0                    100.0\n",
      "457      919418.0            2           2.0                    100.0\n",
      "983      955068.0            2           2.0                    100.0\n",
      "1042     962904.0            2           2.0                    100.0\n",
      "529      924572.0            1           1.0                    100.0\n"
     ]
    }
   ],
   "source": [
    "total_calls_summary = telecom_dataset.groupby('operator_id')['calls_count'].sum().reset_index()\n",
    "total_calls_summary.rename(columns={'calls_count': 'total_calls'}, inplace=True)\n",
    "\n",
    "missed_calls_summary = telecom_dataset[telecom_dataset['is_missed_call'] == 1].groupby('operator_id')['calls_count'].sum().reset_index()\n",
    "missed_calls_summary.rename(columns={'calls_count': 'missed_calls'}, inplace=True)\n",
    "\n",
    "calls_summary = pd.merge(total_calls_summary, missed_calls_summary, on='operator_id', how='left')\n",
    "\n",
    "calls_summary['missed_calls'].fillna(0, inplace=True)\n",
    "\n",
    "calls_summary['missed_calls_percentage'] = (calls_summary['missed_calls'] / calls_summary['total_calls']) * 100\n",
    "\n",
    "calls_summary.sort_values(by='missed_calls_percentage', ascending=False, inplace=True)\n",
    "\n",
    "print(calls_summary.head(10)) \n"
   ]
  },
  {
   "cell_type": "markdown",
   "id": "bebef2f8-2726-4e86-843f-1e9425f4b0b7",
   "metadata": {},
   "source": [
    "**Análisis del tiempo de espera promedio**"
   ]
  },
  {
   "cell_type": "code",
   "execution_count": 16,
   "id": "6360fb10-88d7-4f96-9ced-4a5a6bbb35c1",
   "metadata": {},
   "outputs": [],
   "source": [
    "wait_time_summary = telecom_dataset[telecom_dataset['direction'] == 'in'].groupby('operator_id')['wait_time'].mean().sort_values(ascending=False)\n",
    "wait_time_summary = wait_time_summary.reset_index()\n"
   ]
  },
  {
   "cell_type": "markdown",
   "id": "79df6028-674f-41de-a0b0-5de4817bc764",
   "metadata": {},
   "source": [
    "**Visualizar operadores con mayor tiempo de espera promedio**"
   ]
  },
  {
   "cell_type": "code",
   "execution_count": 17,
   "id": "612629ea-314f-4e71-9a76-5749aa4c990a",
   "metadata": {},
   "outputs": [
    {
     "name": "stderr",
     "output_type": "stream",
     "text": [
      "C:\\Users\\lankf\\AppData\\Local\\Temp\\ipykernel_10824\\852555122.py:2: FutureWarning: \n",
      "\n",
      "Passing `palette` without assigning `hue` is deprecated and will be removed in v0.14.0. Assign the `x` variable to `hue` and set `legend=False` for the same effect.\n",
      "\n",
      "  sns.barplot(data=wait_time_summary.head(10), x='operator_id', y='wait_time', palette='Blues')\n"
     ]
    },
    {
     "data": {
      "image/png": "[encoded data removed]",
      "text/plain": [
       "<Figure size 1200x600 with 1 Axes>"
      ]
     },
     "metadata": {},
     "output_type": "display_data"
    }
   ],
   "source": [
    "plt.figure(figsize=(12, 6))\n",
    "sns.barplot(data=wait_time_summary.head(10), x='operator_id', y='wait_time', palette='Blues')\n",
    "plt.title(\"Top 10 Operadores con mayor tiempo de espera promedio\")\n",
    "plt.xlabel(\"ID de Operador\")\n",
    "plt.ylabel(\"Tiempo de Espera Promedio (segundos)\")\n",
    "plt.show()"
   ]
  },
  {
   "cell_type": "markdown",
   "id": "fcc3b12a-9851-4fe5-8cc0-5135d48dfd0f",
   "metadata": {},
   "source": [
    "**Concluciones:**\n",
    "\n",
    "**Operadores con tiempos de espera muy altos:**\n",
    "\n",
    "El operador con ID 906070.0 tiene el mayor tiempo de espera promedio, superando los 900 segundos (15 minutos), lo que podría ser una señal de problemas en la eficiencia o recursos disponibles para atender llamadas.\n",
    "\n",
    "Otros operadores, como 919794.0 y 919790.0, también tienen tiempos de espera significativamente altos.\n",
    "\n",
    "**Tiempos promedio más equilibrados:**\n",
    "\n",
    "Los operadores hacia el final del top 10, como 921318.0 y 931458.0, tienen tiempos de espera más bajos en comparación con los principales.\n"
   ]
  },
  {
   "cell_type": "markdown",
   "id": "256b6f3b-769c-44b7-aa98-54e2b03f3b7d",
   "metadata": {},
   "source": [
    "**Recomendaciones:**\n",
    "\n",
    "Analizar las causas del alto tiempo de espera para los operadores con mayor promedio, incluyendo posibles sobrecargas de llamadas, insuficiencia de personal o ineficiencias en el sistema.\n",
    "\n",
    "Considerar redistribuir llamadas o ajustar los recursos entre operadores para equilibrar la carga."
   ]
  },
  {
   "cell_type": "markdown",
   "id": "647a6ddb-80af-427d-8971-88e6691e48ca",
   "metadata": {},
   "source": [
    "**Análisis de llamadas salientes por operador**"
   ]
  },
  {
   "cell_type": "code",
   "execution_count": 18,
   "id": "e9b7f078-9dc4-4803-aeb5-3b7915a6fcb2",
   "metadata": {},
   "outputs": [],
   "source": [
    "outgoing_calls = telecom_dataset[telecom_dataset['direction'] == 'out']\n",
    "outgoing_calls_summary = outgoing_calls.groupby('operator_id')['calls_count'].sum().sort_values(ascending=True)\n",
    "outgoing_calls_summary = outgoing_calls_summary.reset_index()\n"
   ]
  },
  {
   "cell_type": "markdown",
   "id": "7270f1d5-fed3-42e1-a6c1-ec7d4ff07498",
   "metadata": {},
   "source": [
    "**Visualizar operadores con menor número de llamadas salientes**"
   ]
  },
  {
   "cell_type": "code",
   "execution_count": 19,
   "id": "3081e836-cb3f-4b6f-8daa-19b2d04ff58b",
   "metadata": {},
   "outputs": [
    {
     "name": "stderr",
     "output_type": "stream",
     "text": [
      "C:\\Users\\lankf\\AppData\\Local\\Temp\\ipykernel_10824\\2162711938.py:2: FutureWarning: \n",
      "\n",
      "Passing `palette` without assigning `hue` is deprecated and will be removed in v0.14.0. Assign the `x` variable to `hue` and set `legend=False` for the same effect.\n",
      "\n",
      "  sns.barplot(data=outgoing_calls_summary.head(10), x='operator_id', y='calls_count', palette='Greens')\n"
     ]
    },
    {
     "data": {
      "image/png": "[encoded data removed]",
      "text/plain": [
       "<Figure size 1200x600 with 1 Axes>"
      ]
     },
     "metadata": {},
     "output_type": "display_data"
    }
   ],
   "source": [
    "plt.figure(figsize=(12, 6))\n",
    "sns.barplot(data=outgoing_calls_summary.head(10), x='operator_id', y='calls_count', palette='Greens')\n",
    "plt.title(\"Top 10 Operadores con menos llamadas salientes\")\n",
    "plt.xlabel(\"ID de Operador\")\n",
    "plt.ylabel(\"Número de llamadas salientes\")\n",
    "plt.show()"
   ]
  },
  {
   "cell_type": "markdown",
   "id": "e2d2b7dd-82ce-425e-8ba3-2f32e281dda4",
   "metadata": {},
   "source": [
    "**Conclusiones:**\n",
    "\n",
    "**Baja actividad de llamadas salientes:**\n",
    "\n",
    "Los operadores listados apenas contribuyen a las llamadas salientes, lo cual puede deberse a varios factores, como:\n",
    "\n",
    "Su rol puede estar más enfocado en recibir llamadas en lugar de hacerlas.\n",
    "\n",
    "Problemas o restricciones en su capacidad para realizar llamadas salientes.\n",
    "\n",
    "**Consistencia en el bajo volumen:**\n",
    "\n",
    "El hecho de que todos tengan el mismo número mínimo (1 llamada) sugiere que no es un fenómeno aislado, sino una característica compartida entre estos operadores."
   ]
  },
  {
   "cell_type": "markdown",
   "id": "6aa82335-e716-41c4-a83f-e5ed124e85eb",
   "metadata": {},
   "source": [
    "**Recomendaciones:**\n",
    "\n",
    "**Investigar la razón detrás del bajo número de llamadas salientes:**\n",
    "\n",
    "Determinar si esto se debe a una decisión operativa, restricciones técnicas o falta de interacción con los clientes.\n",
    "\n",
    "**Revisar el impacto en la operación:**\n",
    "\n",
    "Evaluar si la baja cantidad de llamadas salientes afecta la eficiencia general del servicio o las métricas de satisfacción del cliente.\n",
    "\n",
    "**Identificar posibles patrones:**\n",
    "\n",
    "Revisar otras métricas relacionadas con estos operadores, como el tiempo de espera, llamadas perdidas, etc., para ver si hay una correlación entre estos factores."
   ]
  },
  {
   "cell_type": "markdown",
   "id": "87d60a28-04ca-443b-b8f2-0a28492e1e80",
   "metadata": {},
   "source": [
    "**3. Análisis de Factores Relacionados con la Ineficacia**"
   ]
  },
  {
   "cell_type": "markdown",
   "id": "3aad1a5e-b187-4486-87ff-8dcab437f4a2",
   "metadata": {},
   "source": [
    "**Operadores con métricas combinadas de ineficacia**"
   ]
  },
  {
   "cell_type": "code",
   "execution_count": 20,
   "id": "4a6f9193-601a-432a-bfa9-b8ecc83646df",
   "metadata": {},
   "outputs": [],
   "source": [
    "ineffective_operators = telecom_dataset.groupby('operator_id').agg({\n",
    "    'calls_count': 'sum',\n",
    "    'call_duration': 'sum',\n",
    "    'total_call_duration': 'sum',\n",
    "    'is_missed_call': 'sum',\n",
    "    'wait_time': 'mean'\n",
    "}).reset_index()"
   ]
  },
  {
   "cell_type": "markdown",
   "id": "628bbb22-6920-4e27-8595-680236ea6012",
   "metadata": {},
   "source": [
    "**Filtrar operadores ineficaces**"
   ]
  },
  {
   "cell_type": "code",
   "execution_count": 21,
   "id": "13965689-dd9b-47f7-b46a-84593eccb4b7",
   "metadata": {},
   "outputs": [
    {
     "data": {
      "text/html": [
       "<div>\n",
       "<style scoped>\n",
       "    .dataframe tbody tr th:only-of-type {\n",
       "        vertical-align: middle;\n",
       "    }\n",
       "\n",
       "    .dataframe tbody tr th {\n",
       "        vertical-align: top;\n",
       "    }\n",
       "\n",
       "    .dataframe thead th {\n",
       "        text-align: right;\n",
       "    }\n",
       "</style>\n",
       "<table border=\"1\" class=\"dataframe\">\n",
       "  <thead>\n",
       "    <tr style=\"text-align: right;\">\n",
       "      <th></th>\n",
       "      <th>operator_id</th>\n",
       "      <th>calls_count</th>\n",
       "      <th>call_duration</th>\n",
       "      <th>total_call_duration</th>\n",
       "      <th>is_missed_call</th>\n",
       "      <th>wait_time</th>\n",
       "    </tr>\n",
       "  </thead>\n",
       "  <tbody>\n",
       "    <tr>\n",
       "      <th>0</th>\n",
       "      <td>-1.0</td>\n",
       "      <td>104564</td>\n",
       "      <td>497685</td>\n",
       "      <td>1766770</td>\n",
       "      <td>7343</td>\n",
       "      <td>170.209898</td>\n",
       "    </tr>\n",
       "    <tr>\n",
       "      <th>2</th>\n",
       "      <td>879898.0</td>\n",
       "      <td>7313</td>\n",
       "      <td>257391</td>\n",
       "      <td>361288</td>\n",
       "      <td>89</td>\n",
       "      <td>457.696035</td>\n",
       "    </tr>\n",
       "    <tr>\n",
       "      <th>6</th>\n",
       "      <td>880028.0</td>\n",
       "      <td>2560</td>\n",
       "      <td>146804</td>\n",
       "      <td>189260</td>\n",
       "      <td>82</td>\n",
       "      <td>210.178218</td>\n",
       "    </tr>\n",
       "    <tr>\n",
       "      <th>13</th>\n",
       "      <td>882686.0</td>\n",
       "      <td>3650</td>\n",
       "      <td>366417</td>\n",
       "      <td>431100</td>\n",
       "      <td>83</td>\n",
       "      <td>288.763393</td>\n",
       "    </tr>\n",
       "    <tr>\n",
       "      <th>15</th>\n",
       "      <td>882690.0</td>\n",
       "      <td>1588</td>\n",
       "      <td>132568</td>\n",
       "      <td>169219</td>\n",
       "      <td>23</td>\n",
       "      <td>581.761905</td>\n",
       "    </tr>\n",
       "    <tr>\n",
       "      <th>...</th>\n",
       "      <td>...</td>\n",
       "      <td>...</td>\n",
       "      <td>...</td>\n",
       "      <td>...</td>\n",
       "      <td>...</td>\n",
       "      <td>...</td>\n",
       "    </tr>\n",
       "    <tr>\n",
       "      <th>948</th>\n",
       "      <td>952458.0</td>\n",
       "      <td>1556</td>\n",
       "      <td>44084</td>\n",
       "      <td>75312</td>\n",
       "      <td>25</td>\n",
       "      <td>844.000000</td>\n",
       "    </tr>\n",
       "    <tr>\n",
       "      <th>952</th>\n",
       "      <td>952468.0</td>\n",
       "      <td>1127</td>\n",
       "      <td>32273</td>\n",
       "      <td>52515</td>\n",
       "      <td>24</td>\n",
       "      <td>547.081081</td>\n",
       "    </tr>\n",
       "    <tr>\n",
       "      <th>959</th>\n",
       "      <td>952948.0</td>\n",
       "      <td>4720</td>\n",
       "      <td>471430</td>\n",
       "      <td>493000</td>\n",
       "      <td>46</td>\n",
       "      <td>224.687500</td>\n",
       "    </tr>\n",
       "    <tr>\n",
       "      <th>966</th>\n",
       "      <td>953462.0</td>\n",
       "      <td>684</td>\n",
       "      <td>67507</td>\n",
       "      <td>79698</td>\n",
       "      <td>20</td>\n",
       "      <td>406.366667</td>\n",
       "    </tr>\n",
       "    <tr>\n",
       "      <th>979</th>\n",
       "      <td>954650.0</td>\n",
       "      <td>1299</td>\n",
       "      <td>66833</td>\n",
       "      <td>87718</td>\n",
       "      <td>24</td>\n",
       "      <td>331.507937</td>\n",
       "    </tr>\n",
       "  </tbody>\n",
       "</table>\n",
       "<p>128 rows × 6 columns</p>\n",
       "</div>"
      ],
      "text/plain": [
       "     operator_id  calls_count  call_duration  total_call_duration  \\\n",
       "0           -1.0       104564         497685              1766770   \n",
       "2       879898.0         7313         257391               361288   \n",
       "6       880028.0         2560         146804               189260   \n",
       "13      882686.0         3650         366417               431100   \n",
       "15      882690.0         1588         132568               169219   \n",
       "..           ...          ...            ...                  ...   \n",
       "948     952458.0         1556          44084                75312   \n",
       "952     952468.0         1127          32273                52515   \n",
       "959     952948.0         4720         471430               493000   \n",
       "966     953462.0          684          67507                79698   \n",
       "979     954650.0         1299          66833                87718   \n",
       "\n",
       "     is_missed_call   wait_time  \n",
       "0              7343  170.209898  \n",
       "2                89  457.696035  \n",
       "6                82  210.178218  \n",
       "13               83  288.763393  \n",
       "15               23  581.761905  \n",
       "..              ...         ...  \n",
       "948              25  844.000000  \n",
       "952              24  547.081081  \n",
       "959              46  224.687500  \n",
       "966              20  406.366667  \n",
       "979              24  331.507937  \n",
       "\n",
       "[128 rows x 6 columns]"
      ]
     },
     "metadata": {},
     "output_type": "display_data"
    }
   ],
   "source": [
    "threshold_missed_calls = ineffective_operators['is_missed_call'].quantile(0.75)\n",
    "threshold_wait_time = ineffective_operators['wait_time'].quantile(0.75)\n",
    "\n",
    "ineffective_operators = ineffective_operators[\n",
    "    (ineffective_operators['is_missed_call'] > threshold_missed_calls) &\n",
    "    (ineffective_operators['wait_time'] > threshold_wait_time)\n",
    "]\n",
    "\n",
    "display(ineffective_operators)"
   ]
  },
  {
   "cell_type": "markdown",
   "id": "b1d07f76-ad8a-44b7-b8ce-b10dbde146c4",
   "metadata": {},
   "source": [
    "**1.Identificación de Operadores Ineficaces**\n",
    " \n",
    "Los operadores incluidos en este análisis tienen un número de llamadas perdidas (is_missed_call) y tiempos de espera promedio (wait_time) que están por encima del tercer cuartil (75% superior) de sus respectivas distribuciones.\n",
    "\n",
    "Por ejemplo:\n",
    "\n",
    "El operador con ID 952458 tiene un tiempo de espera promedio extremadamente alto (844 segundos) y 25 llamadas perdidas.\n",
    "\n",
    "El operador con ID 952468 presenta 24 llamadas perdidas y un tiempo de espera promedio de 547 segundos.\n",
    "\n",
    "**2. Ineficacia por Métricas Combinadas**\n",
    "\n",
    "Al observar otras métricas relacionadas:\n",
    "\n",
    "Volumen total de llamadas (calls_count):\n",
    "\n",
    "Algunos operadores tienen un bajo número total de llamadas, lo que podría indicar que no están manejando un gran volumen, pero aun así presentan métricas ineficaces.\n",
    "\n",
    "Por ejemplo, 953462 tiene solo 684 llamadas totales, pero aún presenta un alto tiempo de espera (406 segundos).\n",
    "\n",
    "Duración total y promedio de llamadas (call_duration y total_call_duration):\n",
    "\n",
    "Operadores con tiempos prolongados de llamada pueden estar enfrentando problemas de gestión del tiempo o interacciones complicadas con los clientes.\n",
    "\n",
    "Ejemplo:\n",
    "\n",
    "952948 manejó 4720 llamadas con una duración total de 471,430 segundos, pero sigue teniendo problemas con tiempos de espera (224 segundos en promedio).\n",
    "\n",
    "**3. Impacto Potencial**\n",
    "\n",
    "Llamadas Perdidas:\n",
    "\n",
    "Un alto número de llamadas perdidas (como en 879898, con 89 llamadas perdidas) puede reflejar una baja satisfacción del cliente y pérdida de oportunidades de negocio.\n",
    "\n",
    "Tiempos de Espera:\n",
    "\n",
    "Operadores como 952458 (844 segundos de espera) generan experiencias negativas para los clientes, aumentando la probabilidad de insatisfacción.\n",
    "\n",
    "**4. Tendencias Generales**\n",
    "\n",
    "Operadores con alta carga: Algunos operadores (por ejemplo, -1.0) manejan un gran volumen de llamadas (104,564), lo que podría ser la razón de su ineficacia en el manejo de tiempos de espera y llamadas perdidas.\n",
    "\n",
    "Operadores con bajo desempeño: Otros operadores tienen volúmenes bajos, pero aún así presentan ineficiencia, lo que indica problemas individuales de gestión o capacitación."
   ]
  },
  {
   "cell_type": "markdown",
   "id": "5aefd611-1ff2-4c21-957a-1ae7d96a376f",
   "metadata": {},
   "source": [
    "**Recomendaciones:**\n",
    "\n",
    "Redistribuir la carga de trabajo:\n",
    "\n",
    "Reducir el número de llamadas asignadas a los operadores con alta carga, como -1.0, y evaluar si los recursos están distribuidos adecuadamente.\n",
    "\n",
    "Capacitación y optimización:\n",
    "\n",
    "Proveer entrenamiento adicional para mejorar la eficiencia en la gestión de llamadas y reducir los tiempos de espera.\n",
    "Revisar herramientas de soporte:\n",
    "\n",
    "Verificar si los operadores con altos tiempos de espera tienen acceso a herramientas adecuadas para resolver problemas rápidamente.\n",
    "\n",
    "Seguimiento continuo:\n",
    "\n",
    "Implementar un sistema de monitoreo continuo para identificar y abordar problemas de ineficiencia en tiempo real."
   ]
  },
  {
   "cell_type": "markdown",
   "id": "2ab5c493-328a-4fcf-b948-0812ff875516",
   "metadata": {},
   "source": [
    "**4. Pruebas Estadísticas**"
   ]
  },
  {
   "cell_type": "markdown",
   "id": "c959fc0b-b74f-473e-99a1-6e4aa833426f",
   "metadata": {},
   "source": [
    "**Hipótesis: Los operadores con muchas llamadas perdidas también tienen tiempos de espera mayores.**"
   ]
  },
  {
   "cell_type": "code",
   "execution_count": 22,
   "id": "80e5608a-d81e-4979-b49e-0f8867627319",
   "metadata": {},
   "outputs": [],
   "source": [
    "group_high_missed_calls = telecom_dataset[telecom_dataset['is_missed_call'] == 1]['wait_time']\n",
    "group_low_missed_calls = telecom_dataset[telecom_dataset['is_missed_call'] == 0]['wait_time']\n"
   ]
  },
  {
   "cell_type": "markdown",
   "id": "edafd7a2-6cd9-42f1-8b8c-77cfe8d252e7",
   "metadata": {},
   "source": [
    "**Prueba t de medias independientes**"
   ]
  },
  {
   "cell_type": "code",
   "execution_count": 23,
   "id": "4fd37881-7e92-4106-b83b-be0d37163100",
   "metadata": {},
   "outputs": [
    {
     "name": "stdout",
     "output_type": "stream",
     "text": [
      "T-Statistic: 10.6217549116298, P-Value: 2.521845658266195e-26\n",
      "Rechazamos la hipótesis nula: Existe una diferencia significativa en los tiempos de espera entre las llamadas perdidas y no perdidas.\n"
     ]
    }
   ],
   "source": [
    "t_stat, p_value = ttest_ind(group_high_missed_calls, group_low_missed_calls)\n",
    "print(f\"T-Statistic: {t_stat}, P-Value: {p_value}\")\n",
    "\n",
    "if p_value < 0.05:\n",
    "    print(\"Rechazamos la hipótesis nula: Existe una diferencia significativa en los tiempos de espera entre las llamadas perdidas y no perdidas.\")\n",
    "else:\n",
    "    print(\"No rechazamos la hipótesis nula: No hay diferencia significativa en los tiempos de espera entre las llamadas perdidas y no perdidas.\")"
   ]
  },
  {
   "cell_type": "markdown",
   "id": "b50a4887-ac9b-47fe-829f-623c2bbaa9ec",
   "metadata": {},
   "source": [
    "La prueba t de medias independientes ha demostrado que existe una diferencia significativa en los tiempos de espera entre las llamadas perdidas y las no perdidas."
   ]
  },
  {
   "cell_type": "markdown",
   "id": "74ae9356-fd1d-40aa-b9d7-f7cd1cbf230a",
   "metadata": {},
   "source": [
    "**Conclusiones Principales:**\n",
    "\n",
    "**Diferencia Significativa en Tiempos de Espera:**\n",
    "\n",
    "El valor de la t-statistic (10.62) es bastante alto, lo que sugiere que la diferencia entre los tiempos de espera de las llamadas perdidas y las no perdidas es significativa.\n",
    "\n",
    "El p-value es extremadamente bajo (aproximadamente 2.52 × 10(elevado)−26), lo que nos lleva a rechazar la hipótesis nula de que no hay diferencia en los tiempos de espera.\n",
    "\n",
    "**Interpretación del Resultado:**\n",
    "\n",
    "La diferencia significativa sugiere que los operadores que tienen más llamadas perdidas también tienden a tener tiempos de espera más altos. Esto podría ser un indicio de que estos operadores están lidiando con situaciones de mayor complejidad o tienen una mayor carga de trabajo que podría estar afectando la capacidad para atender las llamadas a tiempo.\n",
    "\n",
    "Los tiempos de espera más largos pueden estar contribuyendo directamente a la frustración de los usuarios, lo que lleva a un aumento de las llamadas perdidas.\n",
    "\n",
    "**Posibles Causas:**\n",
    "\n",
    "Sobrecarga de trabajo: \n",
    "\n",
    "Los operadores con tiempos de espera altos podrían estar enfrentando una carga excesiva de llamadas, lo que les impide manejar eficientemente todas las solicitudes, resultando en llamadas perdidas.\n",
    "\n",
    "Capacitación insuficiente o ineficiencia:\n",
    "\n",
    "Operadores que no están completamente capacitados o que tienen un rendimiento bajo podrían estar causando tanto un incremento en los tiempos de espera como en las llamadas perdidas.\n",
    "\n",
    "**Impacto en la Satisfacción del Cliente:**\n",
    "\n",
    "Los tiempos de espera prolongados y las llamadas perdidas tienen un impacto negativo directo en la experiencia del cliente. Los clientes que experimentan largos tiempos de espera pueden decidir colgar antes de ser atendidos, aumentando la tasa de llamadas perdidas.\n",
    "\n",
    "Si no se abordan estos problemas, se podría enfrentar una mayor insatisfacción y un mayor número de quejas.\n",
    "\n"
   ]
  },
  {
   "cell_type": "markdown",
   "id": "3b6ec511-4f04-4b38-a3f9-f712db1831d7",
   "metadata": {},
   "source": [
    "**Recomendaciones**\n",
    "\n",
    "**Revisión de la carga de trabajo de los operadores:**\n",
    "\n",
    "Se recomienda revisar si los operadores con más llamadas perdidas y tiempos de espera elevados están recibiendo una carga excesiva. Puede ser útil redistribuir el volumen de llamadas o agregar más operadores para equilibrar la carga.\n",
    "\n",
    "**Capacitación y soporte adicional:**\n",
    "\n",
    "Implementar programas de capacitación para mejorar la eficiencia de los operadores en la gestión de llamadas, especialmente en aquellos con tiempos de espera más altos.\n",
    "\n",
    "**Optimización del proceso de atención al cliente:**\n",
    "\n",
    "Evaluar el flujo de trabajo de los operadores y las herramientas de soporte disponibles para asegurarse de que puedan manejar las llamadas de manera más rápida y eficiente, reduciendo así los tiempos de espera y las llamadas perdidas.\n",
    "\n",
    "**Monitoreo constante de indicadores clave:**\n",
    "\n",
    "Monitorear constantemente las métricas de tiempo de espera y llamadas perdidas para identificar posibles áreas de mejora y tomar medidas preventivas para evitar que la situación empeore."
   ]
  },
  {
   "cell_type": "markdown",
   "id": "4d320b28-01b7-4475-bf4e-7aa06131ffbb",
   "metadata": {},
   "source": [
    "# Conclusión General del Proyecto:\n",
    "\n",
    "Este proyecto ha analizado diversas métricas operativas relacionadas con el rendimiento de los operadores en un centro de llamadas, con el objetivo de identificar áreas de mejora en la eficiencia del servicio y la satisfacción del cliente. A través de un análisis detallado de las métricas de llamadas, tiempos de espera, llamadas perdidas y otros factores asociados, se ha logrado obtener una visión clara de los problemas clave que afectan el desempeño de los operadores."
   ]
  },
  {
   "cell_type": "markdown",
   "id": "40fe5e36-8ea7-479c-a68f-16baa09929c5",
   "metadata": {},
   "source": [
    "# Análisis de Resultados:\n",
    "\n",
    "**Operadores con Mayor Tiempo de Espera:**\n",
    "\n",
    "Se identificaron los operadores con los mayores tiempos de espera promedio, lo que sugiere que algunos operadores podrían estar enfrentando una carga de trabajo excesiva o limitaciones en los recursos disponibles. Este factor puede contribuir a una experiencia de usuario negativa, ya que los clientes que esperan demasiado tiempo pueden abandonar la llamada antes de ser atendidos.\n",
    "\n",
    "**Operadores con Menor Número de Llamadas Salientes:**\n",
    "\n",
    "Se observó que ciertos operadores tienen un número significativamente menor de llamadas salientes. Esto podría deberse a diversos factores, como una baja carga de trabajo o una distribución desequilibrada de las llamadas entrantes y salientes. Es importante investigar si estos operadores están siendo subutilizados o si hay problemas que les impiden realizar más llamadas.\n",
    "\n",
    "**Ineficacia en los Operadores:**\n",
    "\n",
    "Se identificaron operadores que presentan altos niveles de ineficiencia, definidos por un número elevado de llamadas perdidas y tiempos de espera prolongados. Estos operadores tienen un impacto negativo en la satisfacción del cliente, y se deben tomar medidas correctivas, como mejorar su capacitación, reducir su carga de trabajo o redistribuir tareas para evitar la sobrecarga.\n",
    "\n",
    "**Prueba Estadística sobre Llamadas Perdidas y Tiempos de Espera:**\n",
    "\n",
    "A través de la prueba t de medias independientes, se demostró que existe una diferencia significativa entre los tiempos de espera de las llamadas perdidas y las no perdidas. Los operadores con mayores tiempos de espera también experimentan un número mayor de llamadas perdidas, lo que indica que la ineficiencia en la gestión de las llamadas está relacionada con un servicio lento y una mayor tasa de frustración de los usuarios."
   ]
  },
  {
   "cell_type": "markdown",
   "id": "afa46332-bd4f-4a12-b5bc-4b10df0afa37",
   "metadata": {},
   "source": [
    "# Recomendaciones Generales:\n",
    "\n",
    "**Optimización de la Gestión de Llamadas:**\n",
    "\n",
    "Es crucial redistribuir las llamadas de manera más equitativa entre los operadores, asegurando que aquellos con mayores tiempos de espera no estén sobrecargados de trabajo. Esto podría incluir la contratación de más operadores o la mejora en la distribución de las llamadas.\n",
    "\n",
    "**Mejora de la Capacitación:**\n",
    "\n",
    "La capacitación de los operadores debe ser prioritaria, especialmente para aquellos con altos tiempos de espera o un alto volumen de llamadas perdidas. Mejorar la eficiencia de los operadores puede reducir significativamente el número de llamadas perdidas y los tiempos de espera, mejorando así la experiencia del cliente.\n",
    "\n",
    "**Monitoreo Continuo de las Métricas:**\n",
    "\n",
    "Es importante implementar un sistema de monitoreo constante de las métricas de llamadas, como el tiempo de espera, las llamadas perdidas y el número de llamadas atendidas. Esto permitirá identificar rápidamente cualquier patrón problemático y tomar medidas preventivas.\n",
    "\n",
    "**Implementación de Herramientas de Soporte:**\n",
    "\n",
    "Utilizar herramientas tecnológicas que faciliten la gestión de llamadas y el monitoreo en tiempo real de los indicadores operativos. Esto permitirá a los operadores manejar las llamadas de manera más eficiente y mejorar el tiempo de respuesta."
   ]
  },
  {
   "cell_type": "markdown",
   "id": "86acd865-55d0-46f5-abe3-bda528049fdb",
   "metadata": {},
   "source": [
    "# Conclusión Final:\n",
    "\n",
    "En resumen, el análisis realizado proporciona una visión integral del desempeño de los operadores en el centro de llamadas, identificando los factores clave que contribuyen a la ineficiencia y proponiendo medidas concretas para mejorar la calidad del servicio. A través de la optimización de la gestión de llamadas, la capacitación de los operadores y el monitoreo constante, es posible reducir tanto los tiempos de espera como las llamadas perdidas, lo que a su vez llevará a una mayor satisfacción del cliente y un rendimiento más eficiente del centro de llamadas."
   ]
  },
  {
   "cell_type": "code",
   "execution_count": null,
   "id": "ad795baa",
   "metadata": {},
   "outputs": [],
   "source": []
  }
 ],
 "metadata": {
  "kernelspec": {
   "display_name": "Python 3 (ipykernel)",
   "language": "python",
   "name": "python3"
  },
  "language_info": {
   "codemirror_mode": {
    "name": "ipython",
    "version": 3
   },
   "file_extension": ".py",
   "mimetype": "text/x-python",
   "name": "python",
   "nbconvert_exporter": "python",
   "pygments_lexer": "ipython3",
   "version": "3.9.19"
  },
  "toc": {
   "base_numbering": 1,
   "nav_menu": {},
   "number_sections": true,
   "sideBar": true,
   "skip_h1_title": true,
   "title_cell": "Table of Contents",
   "title_sidebar": "Contents",
   "toc_cell": false,
   "toc_position": {},
   "toc_section_display": true,
   "toc_window_display": false
  }
 },
 "nbformat": 4,
 "nbformat_minor": 5
}
